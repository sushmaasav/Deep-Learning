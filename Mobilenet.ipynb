{
 "cells": [
  {
   "cell_type": "code",
   "execution_count": 1,
   "metadata": {
    "id": "NzydB2yZN05x"
   },
   "outputs": [],
   "source": [
    "import tensorflow as tf\n",
    "import numpy as np\n",
    "import matplotlib.pyplot as plt\n",
    "from tensorflow.keras.models import Sequential\n",
    "from tensorflow.keras.layers import Dense,Conv2D,Flatten,Dropout,MaxPool2D,BatchNormalization\n",
    "from tensorflow.keras.preprocessing.image import ImageDataGenerator\n",
    "import cv2\n",
    "import pandas as pd\n",
    "from tensorflow.keras.applications import MobileNet"
   ]
  },
  {
   "cell_type": "code",
   "execution_count": 2,
   "metadata": {
    "colab": {
     "base_uri": "https://localhost:8080/"
    },
    "id": "r9_Hw2LJoxFy",
    "outputId": "2ea5b3a6-6900-42c4-ae4a-3504d9d29994"
   },
   "outputs": [
    {
     "name": "stdout",
     "output_type": "stream",
     "text": [
      "Downloading data from https://storage.googleapis.com/tensorflow/keras-applications/mobilenet/mobilenet_1_0_224_tf_no_top.h5\n",
      "17227776/17225924 [==============================] - 3s 0us/step\n",
      "17235968/17225924 [==============================] - 3s 0us/step\n"
     ]
    }
   ],
   "source": [
    "model = MobileNet(input_shape=(224,224,3),include_top=False)"
   ]
  },
  {
   "cell_type": "code",
   "execution_count": 3,
   "metadata": {
    "id": "BdeO9YeyOMGv"
   },
   "outputs": [],
   "source": [
    "train_datagen = ImageDataGenerator(rescale=1/255.,\n",
    "                                  rotation_range=45,\n",
    "                                  width_shift_range=0.2,\n",
    "                                  zoom_range=0.2,\n",
    "                                  horizontal_flip=True,\n",
    "                                  fill_mode='reflect')"
   ]
  },
  {
   "cell_type": "code",
   "execution_count": 5,
   "metadata": {
    "colab": {
     "base_uri": "https://localhost:8080/"
    },
    "id": "QiWTvTOROMSE",
    "outputId": "8e4ae1aa-ee62-4cc2-db14-c6b3e53c4288"
   },
   "outputs": [
    {
     "name": "stdout",
     "output_type": "stream",
     "text": [
      "Found 1709 images belonging to 2 classes.\n"
     ]
    }
   ],
   "source": [
    "train_data = train_datagen.flow_from_directory('C:/Users/Venkatesh.DESKTOP-836KGPI/DSML_GL_PES/Deep Learning/Hackathon/train',\n",
    "                                               target_size=(224,224),\n",
    "                                               class_mode='binary',\n",
    "                                               batch_size=32)"
   ]
  },
  {
   "cell_type": "code",
   "execution_count": 6,
   "metadata": {
    "colab": {
     "base_uri": "https://localhost:8080/"
    },
    "id": "jgUgPAOh-xpd",
    "outputId": "cf02d325-53d6-42b6-c7e5-54654418a6bb"
   },
   "outputs": [
    {
     "data": {
      "text/plain": [
       "[<keras.engine.input_layer.InputLayer at 0x2503dbe1640>,\n",
       " <keras.layers.convolutional.Conv2D at 0x25048cdc880>,\n",
       " <keras.layers.normalization.batch_normalization.BatchNormalization at 0x2503dbe57f0>,\n",
       " <keras.layers.advanced_activations.ReLU at 0x25048d7e2e0>,\n",
       " <keras.layers.convolutional.DepthwiseConv2D at 0x25048db62e0>,\n",
       " <keras.layers.normalization.batch_normalization.BatchNormalization at 0x25048de7e80>,\n",
       " <keras.layers.advanced_activations.ReLU at 0x25048e03520>,\n",
       " <keras.layers.convolutional.Conv2D at 0x25048e03e80>,\n",
       " <keras.layers.normalization.batch_normalization.BatchNormalization at 0x25048e10670>,\n",
       " <keras.layers.advanced_activations.ReLU at 0x25048e1b640>,\n",
       " <keras.layers.convolutional.ZeroPadding2D at 0x25048e1b970>,\n",
       " <keras.layers.convolutional.DepthwiseConv2D at 0x25048e15be0>,\n",
       " <keras.layers.normalization.batch_normalization.BatchNormalization at 0x25048e20af0>,\n",
       " <keras.layers.advanced_activations.ReLU at 0x25048e26430>,\n",
       " <keras.layers.convolutional.Conv2D at 0x25048e26f40>,\n",
       " <keras.layers.normalization.batch_normalization.BatchNormalization at 0x25048e2e490>,\n",
       " <keras.layers.advanced_activations.ReLU at 0x25048e38550>,\n",
       " <keras.layers.convolutional.DepthwiseConv2D at 0x25048e38700>,\n",
       " <keras.layers.normalization.batch_normalization.BatchNormalization at 0x25048e2e3a0>,\n",
       " <keras.layers.advanced_activations.ReLU at 0x25048e15a30>,\n",
       " <keras.layers.convolutional.Conv2D at 0x25048e03280>,\n",
       " <keras.layers.normalization.batch_normalization.BatchNormalization at 0x25048e15a00>,\n",
       " <keras.layers.advanced_activations.ReLU at 0x25048db6eb0>,\n",
       " <keras.layers.convolutional.ZeroPadding2D at 0x25048d7e820>,\n",
       " <keras.layers.convolutional.DepthwiseConv2D at 0x25048e3ddc0>,\n",
       " <keras.layers.normalization.batch_normalization.BatchNormalization at 0x25048e33700>,\n",
       " <keras.layers.advanced_activations.ReLU at 0x25048e3fd90>,\n",
       " <keras.layers.convolutional.Conv2D at 0x25048e42820>,\n",
       " <keras.layers.normalization.batch_normalization.BatchNormalization at 0x25048e44dc0>,\n",
       " <keras.layers.advanced_activations.ReLU at 0x25048e42580>,\n",
       " <keras.layers.convolutional.DepthwiseConv2D at 0x25048e20430>,\n",
       " <keras.layers.normalization.batch_normalization.BatchNormalization at 0x25048e4ef40>,\n",
       " <keras.layers.advanced_activations.ReLU at 0x25048e4e400>,\n",
       " <keras.layers.convolutional.Conv2D at 0x25048e42490>,\n",
       " <keras.layers.normalization.batch_normalization.BatchNormalization at 0x25048e59e20>,\n",
       " <keras.layers.advanced_activations.ReLU at 0x25048e5e610>,\n",
       " <keras.layers.convolutional.ZeroPadding2D at 0x25048e59ac0>,\n",
       " <keras.layers.convolutional.DepthwiseConv2D at 0x25048e532e0>,\n",
       " <keras.layers.normalization.batch_normalization.BatchNormalization at 0x25048e6a940>,\n",
       " <keras.layers.advanced_activations.ReLU at 0x25048e633d0>,\n",
       " <keras.layers.convolutional.Conv2D at 0x25048e6a340>,\n",
       " <keras.layers.normalization.batch_normalization.BatchNormalization at 0x25048e76430>,\n",
       " <keras.layers.advanced_activations.ReLU at 0x25048e7c0a0>,\n",
       " <keras.layers.convolutional.DepthwiseConv2D at 0x25048e7ca00>,\n",
       " <keras.layers.normalization.batch_normalization.BatchNormalization at 0x25048e7edc0>,\n",
       " <keras.layers.advanced_activations.ReLU at 0x25048e8e160>,\n",
       " <keras.layers.convolutional.Conv2D at 0x25048e8e760>,\n",
       " <keras.layers.normalization.batch_normalization.BatchNormalization at 0x25048e76b80>,\n",
       " <keras.layers.advanced_activations.ReLU at 0x25048e9a280>,\n",
       " <keras.layers.convolutional.DepthwiseConv2D at 0x25048e9a9a0>,\n",
       " <keras.layers.normalization.batch_normalization.BatchNormalization at 0x25048ea0880>,\n",
       " <keras.layers.advanced_activations.ReLU at 0x25048eac5b0>,\n",
       " <keras.layers.convolutional.Conv2D at 0x25048eac8b0>,\n",
       " <keras.layers.normalization.batch_normalization.BatchNormalization at 0x25048e955b0>,\n",
       " <keras.layers.advanced_activations.ReLU at 0x25048eb34f0>,\n",
       " <keras.layers.convolutional.DepthwiseConv2D at 0x25048e95eb0>,\n",
       " <keras.layers.normalization.batch_normalization.BatchNormalization at 0x25048ea7640>,\n",
       " <keras.layers.advanced_activations.ReLU at 0x25048ebf700>,\n",
       " <keras.layers.convolutional.Conv2D at 0x25048ebfdc0>,\n",
       " <keras.layers.normalization.batch_normalization.BatchNormalization at 0x25048ec28b0>,\n",
       " <keras.layers.advanced_activations.ReLU at 0x25048ebfb80>,\n",
       " <keras.layers.convolutional.DepthwiseConv2D at 0x25048eb9c10>,\n",
       " <keras.layers.normalization.batch_normalization.BatchNormalization at 0x25048e596a0>,\n",
       " <keras.layers.advanced_activations.ReLU at 0x25048e7e760>,\n",
       " <keras.layers.convolutional.Conv2D at 0x25048e9a190>,\n",
       " <keras.layers.normalization.batch_normalization.BatchNormalization at 0x25048e4e460>,\n",
       " <keras.layers.advanced_activations.ReLU at 0x25048e3fb50>,\n",
       " <keras.layers.convolutional.DepthwiseConv2D at 0x25048e4e130>,\n",
       " <keras.layers.normalization.batch_normalization.BatchNormalization at 0x25048ec7f40>,\n",
       " <keras.layers.advanced_activations.ReLU at 0x25048ed10a0>,\n",
       " <keras.layers.convolutional.Conv2D at 0x25048ed18b0>,\n",
       " <keras.layers.normalization.batch_normalization.BatchNormalization at 0x25048ed2310>,\n",
       " <keras.layers.advanced_activations.ReLU at 0x25048ed3040>,\n",
       " <keras.layers.convolutional.ZeroPadding2D at 0x25048ed3850>,\n",
       " <keras.layers.convolutional.DepthwiseConv2D at 0x25048ed2460>,\n",
       " <keras.layers.normalization.batch_normalization.BatchNormalization at 0x25048edb700>,\n",
       " <keras.layers.advanced_activations.ReLU at 0x25048edf040>,\n",
       " <keras.layers.convolutional.Conv2D at 0x25048ed1a30>,\n",
       " <keras.layers.normalization.batch_normalization.BatchNormalization at 0x25048ee80a0>,\n",
       " <keras.layers.advanced_activations.ReLU at 0x25048eed070>,\n",
       " <keras.layers.convolutional.DepthwiseConv2D at 0x25048ed7520>,\n",
       " <keras.layers.normalization.batch_normalization.BatchNormalization at 0x25048ef2970>,\n",
       " <keras.layers.advanced_activations.ReLU at 0x25048f001f0>,\n",
       " <keras.layers.convolutional.Conv2D at 0x25048f00370>,\n",
       " <keras.layers.normalization.batch_normalization.BatchNormalization at 0x25048ed7580>,\n",
       " <keras.layers.advanced_activations.ReLU at 0x25048f062e0>]"
      ]
     },
     "execution_count": 6,
     "metadata": {},
     "output_type": "execute_result"
    }
   ],
   "source": [
    "model.layers"
   ]
  },
  {
   "cell_type": "code",
   "execution_count": 13,
   "metadata": {
    "colab": {
     "base_uri": "https://localhost:8080/"
    },
    "id": "bJP0BQwh_Kcl",
    "outputId": "6df94d3a-54c0-4472-d2cf-c2fdf4c56ec3"
   },
   "outputs": [
    {
     "data": {
      "text/plain": [
       "<keras.layers.convolutional.Conv2D at 0x7f25a03dc950>"
      ]
     },
     "execution_count": 13,
     "metadata": {},
     "output_type": "execute_result"
    }
   ],
   "source": [
    "model.layers[77]"
   ]
  },
  {
   "cell_type": "code",
   "execution_count": 7,
   "metadata": {
    "colab": {
     "base_uri": "https://localhost:8080/"
    },
    "id": "edV3cHip_cDi",
    "outputId": "1c91d036-5080-4268-afa8-90cace52e4e0"
   },
   "outputs": [
    {
     "data": {
      "text/plain": [
       "True"
      ]
     },
     "execution_count": 7,
     "metadata": {},
     "output_type": "execute_result"
    }
   ],
   "source": [
    "model.trainable"
   ]
  },
  {
   "cell_type": "code",
   "execution_count": 8,
   "metadata": {
    "id": "6aI1vNNJ_T62"
   },
   "outputs": [],
   "source": [
    "for i in range(0,77):\n",
    "  model.layers[i].trainable=False"
   ]
  },
  {
   "cell_type": "code",
   "execution_count": 9,
   "metadata": {
    "colab": {
     "base_uri": "https://localhost:8080/"
    },
    "id": "ayxEaZ_p_lf3",
    "outputId": "091efde4-4a8d-4484-a9f3-8e5af4b833e2"
   },
   "outputs": [
    {
     "name": "stdout",
     "output_type": "stream",
     "text": [
      "Model: \"mobilenet_1.00_224\"\n",
      "_________________________________________________________________\n",
      " Layer (type)                Output Shape              Param #   \n",
      "=================================================================\n",
      " input_1 (InputLayer)        [(None, 224, 224, 3)]     0         \n",
      "                                                                 \n",
      " conv1 (Conv2D)              (None, 112, 112, 32)      864       \n",
      "                                                                 \n",
      " conv1_bn (BatchNormalizatio  (None, 112, 112, 32)     128       \n",
      " n)                                                              \n",
      "                                                                 \n",
      " conv1_relu (ReLU)           (None, 112, 112, 32)      0         \n",
      "                                                                 \n",
      " conv_dw_1 (DepthwiseConv2D)  (None, 112, 112, 32)     288       \n",
      "                                                                 \n",
      " conv_dw_1_bn (BatchNormaliz  (None, 112, 112, 32)     128       \n",
      " ation)                                                          \n",
      "                                                                 \n",
      " conv_dw_1_relu (ReLU)       (None, 112, 112, 32)      0         \n",
      "                                                                 \n",
      " conv_pw_1 (Conv2D)          (None, 112, 112, 64)      2048      \n",
      "                                                                 \n",
      " conv_pw_1_bn (BatchNormaliz  (None, 112, 112, 64)     256       \n",
      " ation)                                                          \n",
      "                                                                 \n",
      " conv_pw_1_relu (ReLU)       (None, 112, 112, 64)      0         \n",
      "                                                                 \n",
      " conv_pad_2 (ZeroPadding2D)  (None, 113, 113, 64)      0         \n",
      "                                                                 \n",
      " conv_dw_2 (DepthwiseConv2D)  (None, 56, 56, 64)       576       \n",
      "                                                                 \n",
      " conv_dw_2_bn (BatchNormaliz  (None, 56, 56, 64)       256       \n",
      " ation)                                                          \n",
      "                                                                 \n",
      " conv_dw_2_relu (ReLU)       (None, 56, 56, 64)        0         \n",
      "                                                                 \n",
      " conv_pw_2 (Conv2D)          (None, 56, 56, 128)       8192      \n",
      "                                                                 \n",
      " conv_pw_2_bn (BatchNormaliz  (None, 56, 56, 128)      512       \n",
      " ation)                                                          \n",
      "                                                                 \n",
      " conv_pw_2_relu (ReLU)       (None, 56, 56, 128)       0         \n",
      "                                                                 \n",
      " conv_dw_3 (DepthwiseConv2D)  (None, 56, 56, 128)      1152      \n",
      "                                                                 \n",
      " conv_dw_3_bn (BatchNormaliz  (None, 56, 56, 128)      512       \n",
      " ation)                                                          \n",
      "                                                                 \n",
      " conv_dw_3_relu (ReLU)       (None, 56, 56, 128)       0         \n",
      "                                                                 \n",
      " conv_pw_3 (Conv2D)          (None, 56, 56, 128)       16384     \n",
      "                                                                 \n",
      " conv_pw_3_bn (BatchNormaliz  (None, 56, 56, 128)      512       \n",
      " ation)                                                          \n",
      "                                                                 \n",
      " conv_pw_3_relu (ReLU)       (None, 56, 56, 128)       0         \n",
      "                                                                 \n",
      " conv_pad_4 (ZeroPadding2D)  (None, 57, 57, 128)       0         \n",
      "                                                                 \n",
      " conv_dw_4 (DepthwiseConv2D)  (None, 28, 28, 128)      1152      \n",
      "                                                                 \n",
      " conv_dw_4_bn (BatchNormaliz  (None, 28, 28, 128)      512       \n",
      " ation)                                                          \n",
      "                                                                 \n",
      " conv_dw_4_relu (ReLU)       (None, 28, 28, 128)       0         \n",
      "                                                                 \n",
      " conv_pw_4 (Conv2D)          (None, 28, 28, 256)       32768     \n",
      "                                                                 \n",
      " conv_pw_4_bn (BatchNormaliz  (None, 28, 28, 256)      1024      \n",
      " ation)                                                          \n",
      "                                                                 \n",
      " conv_pw_4_relu (ReLU)       (None, 28, 28, 256)       0         \n",
      "                                                                 \n",
      " conv_dw_5 (DepthwiseConv2D)  (None, 28, 28, 256)      2304      \n",
      "                                                                 \n",
      " conv_dw_5_bn (BatchNormaliz  (None, 28, 28, 256)      1024      \n",
      " ation)                                                          \n",
      "                                                                 \n",
      " conv_dw_5_relu (ReLU)       (None, 28, 28, 256)       0         \n",
      "                                                                 \n",
      " conv_pw_5 (Conv2D)          (None, 28, 28, 256)       65536     \n",
      "                                                                 \n",
      " conv_pw_5_bn (BatchNormaliz  (None, 28, 28, 256)      1024      \n",
      " ation)                                                          \n",
      "                                                                 \n",
      " conv_pw_5_relu (ReLU)       (None, 28, 28, 256)       0         \n",
      "                                                                 \n",
      " conv_pad_6 (ZeroPadding2D)  (None, 29, 29, 256)       0         \n",
      "                                                                 \n",
      " conv_dw_6 (DepthwiseConv2D)  (None, 14, 14, 256)      2304      \n",
      "                                                                 \n",
      " conv_dw_6_bn (BatchNormaliz  (None, 14, 14, 256)      1024      \n",
      " ation)                                                          \n",
      "                                                                 \n",
      " conv_dw_6_relu (ReLU)       (None, 14, 14, 256)       0         \n",
      "                                                                 \n",
      " conv_pw_6 (Conv2D)          (None, 14, 14, 512)       131072    \n",
      "                                                                 \n",
      " conv_pw_6_bn (BatchNormaliz  (None, 14, 14, 512)      2048      \n",
      " ation)                                                          \n",
      "                                                                 \n",
      " conv_pw_6_relu (ReLU)       (None, 14, 14, 512)       0         \n",
      "                                                                 \n",
      " conv_dw_7 (DepthwiseConv2D)  (None, 14, 14, 512)      4608      \n",
      "                                                                 \n",
      " conv_dw_7_bn (BatchNormaliz  (None, 14, 14, 512)      2048      \n",
      " ation)                                                          \n",
      "                                                                 \n",
      " conv_dw_7_relu (ReLU)       (None, 14, 14, 512)       0         \n",
      "                                                                 \n",
      " conv_pw_7 (Conv2D)          (None, 14, 14, 512)       262144    \n",
      "                                                                 \n",
      " conv_pw_7_bn (BatchNormaliz  (None, 14, 14, 512)      2048      \n",
      " ation)                                                          \n",
      "                                                                 \n",
      " conv_pw_7_relu (ReLU)       (None, 14, 14, 512)       0         \n",
      "                                                                 \n",
      " conv_dw_8 (DepthwiseConv2D)  (None, 14, 14, 512)      4608      \n",
      "                                                                 \n",
      " conv_dw_8_bn (BatchNormaliz  (None, 14, 14, 512)      2048      \n",
      " ation)                                                          \n",
      "                                                                 \n",
      " conv_dw_8_relu (ReLU)       (None, 14, 14, 512)       0         \n",
      "                                                                 \n",
      " conv_pw_8 (Conv2D)          (None, 14, 14, 512)       262144    \n",
      "                                                                 \n",
      " conv_pw_8_bn (BatchNormaliz  (None, 14, 14, 512)      2048      \n",
      " ation)                                                          \n",
      "                                                                 \n",
      " conv_pw_8_relu (ReLU)       (None, 14, 14, 512)       0         \n",
      "                                                                 \n",
      " conv_dw_9 (DepthwiseConv2D)  (None, 14, 14, 512)      4608      \n",
      "                                                                 \n",
      " conv_dw_9_bn (BatchNormaliz  (None, 14, 14, 512)      2048      \n",
      " ation)                                                          \n",
      "                                                                 \n",
      " conv_dw_9_relu (ReLU)       (None, 14, 14, 512)       0         \n",
      "                                                                 \n",
      " conv_pw_9 (Conv2D)          (None, 14, 14, 512)       262144    \n",
      "                                                                 \n",
      " conv_pw_9_bn (BatchNormaliz  (None, 14, 14, 512)      2048      \n",
      " ation)                                                          \n",
      "                                                                 \n",
      " conv_pw_9_relu (ReLU)       (None, 14, 14, 512)       0         \n",
      "                                                                 \n",
      " conv_dw_10 (DepthwiseConv2D  (None, 14, 14, 512)      4608      \n",
      " )                                                               \n",
      "                                                                 \n",
      " conv_dw_10_bn (BatchNormali  (None, 14, 14, 512)      2048      \n",
      " zation)                                                         \n",
      "                                                                 \n",
      " conv_dw_10_relu (ReLU)      (None, 14, 14, 512)       0         \n",
      "                                                                 \n",
      " conv_pw_10 (Conv2D)         (None, 14, 14, 512)       262144    \n",
      "                                                                 \n",
      " conv_pw_10_bn (BatchNormali  (None, 14, 14, 512)      2048      \n",
      " zation)                                                         \n",
      "                                                                 \n",
      " conv_pw_10_relu (ReLU)      (None, 14, 14, 512)       0         \n",
      "                                                                 \n",
      " conv_dw_11 (DepthwiseConv2D  (None, 14, 14, 512)      4608      \n",
      " )                                                               \n",
      "                                                                 \n",
      " conv_dw_11_bn (BatchNormali  (None, 14, 14, 512)      2048      \n",
      " zation)                                                         \n",
      "                                                                 \n",
      " conv_dw_11_relu (ReLU)      (None, 14, 14, 512)       0         \n",
      "                                                                 \n",
      " conv_pw_11 (Conv2D)         (None, 14, 14, 512)       262144    \n",
      "                                                                 \n",
      " conv_pw_11_bn (BatchNormali  (None, 14, 14, 512)      2048      \n",
      " zation)                                                         \n",
      "                                                                 \n",
      " conv_pw_11_relu (ReLU)      (None, 14, 14, 512)       0         \n",
      "                                                                 \n",
      " conv_pad_12 (ZeroPadding2D)  (None, 15, 15, 512)      0         \n",
      "                                                                 \n",
      " conv_dw_12 (DepthwiseConv2D  (None, 7, 7, 512)        4608      \n",
      " )                                                               \n",
      "                                                                 \n",
      " conv_dw_12_bn (BatchNormali  (None, 7, 7, 512)        2048      \n",
      " zation)                                                         \n",
      "                                                                 \n",
      " conv_dw_12_relu (ReLU)      (None, 7, 7, 512)         0         \n",
      "                                                                 \n",
      " conv_pw_12 (Conv2D)         (None, 7, 7, 1024)        524288    \n",
      "                                                                 \n",
      " conv_pw_12_bn (BatchNormali  (None, 7, 7, 1024)       4096      \n",
      " zation)                                                         \n",
      "                                                                 \n",
      " conv_pw_12_relu (ReLU)      (None, 7, 7, 1024)        0         \n",
      "                                                                 \n",
      " conv_dw_13 (DepthwiseConv2D  (None, 7, 7, 1024)       9216      \n",
      " )                                                               \n",
      "                                                                 \n",
      " conv_dw_13_bn (BatchNormali  (None, 7, 7, 1024)       4096      \n",
      " zation)                                                         \n",
      "                                                                 \n",
      " conv_dw_13_relu (ReLU)      (None, 7, 7, 1024)        0         \n",
      "                                                                 \n",
      " conv_pw_13 (Conv2D)         (None, 7, 7, 1024)        1048576   \n",
      "                                                                 \n",
      " conv_pw_13_bn (BatchNormali  (None, 7, 7, 1024)       4096      \n",
      " zation)                                                         \n",
      "                                                                 \n",
      " conv_pw_13_relu (ReLU)      (None, 7, 7, 1024)        0         \n",
      "                                                                 \n",
      "=================================================================\n",
      "Total params: 3,228,864\n",
      "Trainable params: 1,588,224\n",
      "Non-trainable params: 1,640,640\n",
      "_________________________________________________________________\n"
     ]
    }
   ],
   "source": [
    "model.summary()"
   ]
  },
  {
   "cell_type": "code",
   "execution_count": 10,
   "metadata": {
    "id": "GNknTs4_AnP0"
   },
   "outputs": [],
   "source": [
    "base_model = Sequential()\n",
    "base_model.add(model)\n",
    "base_model.add(Flatten())\n",
    "base_model.add(Dense(1024,activation='relu'))\n",
    "base_model.add(Dense(512,activation='relu'))\n",
    "base_model.add(Dropout(0.1))\n",
    "base_model.add(Dense(64,activation='relu'))\n",
    "base_model.add(Dense(1,activation='sigmoid'))"
   ]
  },
  {
   "cell_type": "code",
   "execution_count": 11,
   "metadata": {
    "id": "U_OWusH7OMX5"
   },
   "outputs": [],
   "source": [
    "base_model.compile(optimizer=tf.keras.optimizers.SGD(0.01),loss='binary_crossentropy',metrics=['accuracy'])"
   ]
  },
  {
   "cell_type": "code",
   "execution_count": 12,
   "metadata": {
    "colab": {
     "base_uri": "https://localhost:8080/"
    },
    "id": "JDdRSeMcBOrm",
    "outputId": "04e12912-ac44-476b-b08c-d6d220491270"
   },
   "outputs": [
    {
     "name": "stdout",
     "output_type": "stream",
     "text": [
      "Model: \"sequential\"\n",
      "_________________________________________________________________\n",
      " Layer (type)                Output Shape              Param #   \n",
      "=================================================================\n",
      " mobilenet_1.00_224 (Functio  (None, 7, 7, 1024)       3228864   \n",
      " nal)                                                            \n",
      "                                                                 \n",
      " flatten (Flatten)           (None, 50176)             0         \n",
      "                                                                 \n",
      " dense (Dense)               (None, 1024)              51381248  \n",
      "                                                                 \n",
      " dense_1 (Dense)             (None, 512)               524800    \n",
      "                                                                 \n",
      " dropout (Dropout)           (None, 512)               0         \n",
      "                                                                 \n",
      " dense_2 (Dense)             (None, 64)                32832     \n",
      "                                                                 \n",
      " dense_3 (Dense)             (None, 1)                 65        \n",
      "                                                                 \n",
      "=================================================================\n",
      "Total params: 55,167,809\n",
      "Trainable params: 53,527,169\n",
      "Non-trainable params: 1,640,640\n",
      "_________________________________________________________________\n"
     ]
    }
   ],
   "source": [
    "base_model.summary()"
   ]
  },
  {
   "cell_type": "code",
   "execution_count": 13,
   "metadata": {
    "colab": {
     "base_uri": "https://localhost:8080/"
    },
    "id": "iY5YPAItOMbE",
    "outputId": "8e560fb2-13a7-4199-922d-2c42542f9fe2"
   },
   "outputs": [
    {
     "name": "stdout",
     "output_type": "stream",
     "text": [
      "Epoch 1/20\n",
      "54/54 [==============================] - 143s 3s/step - loss: 0.7781 - accuracy: 0.5688\n",
      "Epoch 2/20\n",
      "54/54 [==============================] - 133s 2s/step - loss: 0.6717 - accuracy: 0.5875\n",
      "Epoch 3/20\n",
      "54/54 [==============================] - 139s 3s/step - loss: 0.6338 - accuracy: 0.6530\n",
      "Epoch 4/20\n",
      "54/54 [==============================] - 130s 2s/step - loss: 0.6262 - accuracy: 0.6477\n",
      "Epoch 5/20\n",
      "54/54 [==============================] - 131s 2s/step - loss: 0.6017 - accuracy: 0.6706\n",
      "Epoch 6/20\n",
      "54/54 [==============================] - 130s 2s/step - loss: 0.5910 - accuracy: 0.6776\n",
      "Epoch 7/20\n",
      "54/54 [==============================] - 134s 2s/step - loss: 0.5847 - accuracy: 0.6788\n",
      "Epoch 8/20\n",
      "54/54 [==============================] - 136s 3s/step - loss: 0.5861 - accuracy: 0.6899\n",
      "Epoch 9/20\n",
      "54/54 [==============================] - 131s 2s/step - loss: 0.5550 - accuracy: 0.7185\n",
      "Epoch 10/20\n",
      "54/54 [==============================] - 131s 2s/step - loss: 0.5429 - accuracy: 0.7156\n",
      "Epoch 11/20\n",
      "54/54 [==============================] - 131s 2s/step - loss: 0.5550 - accuracy: 0.7086\n",
      "Epoch 12/20\n",
      "54/54 [==============================] - 135s 2s/step - loss: 0.5254 - accuracy: 0.7256\n",
      "Epoch 13/20\n",
      "54/54 [==============================] - 130s 2s/step - loss: 0.5374 - accuracy: 0.7232\n",
      "Epoch 14/20\n",
      "54/54 [==============================] - 131s 2s/step - loss: 0.4888 - accuracy: 0.7566\n",
      "Epoch 15/20\n",
      "54/54 [==============================] - 132s 2s/step - loss: 0.4898 - accuracy: 0.7472\n",
      "Epoch 16/20\n",
      "54/54 [==============================] - 131s 2s/step - loss: 0.4947 - accuracy: 0.7607\n",
      "Epoch 17/20\n",
      "54/54 [==============================] - 137s 3s/step - loss: 0.4761 - accuracy: 0.7654\n",
      "Epoch 18/20\n",
      "54/54 [==============================] - 135s 2s/step - loss: 0.4687 - accuracy: 0.7671\n",
      "Epoch 19/20\n",
      "54/54 [==============================] - 138s 3s/step - loss: 0.4600 - accuracy: 0.7929\n",
      "Epoch 20/20\n",
      "54/54 [==============================] - 138s 3s/step - loss: 0.4613 - accuracy: 0.7794\n"
     ]
    },
    {
     "data": {
      "text/plain": [
       "<keras.callbacks.History at 0x250495eebb0>"
      ]
     },
     "execution_count": 13,
     "metadata": {},
     "output_type": "execute_result"
    }
   ],
   "source": [
    "base_model.fit(train_data,epochs=20)"
   ]
  },
  {
   "cell_type": "code",
   "execution_count": 15,
   "metadata": {
    "colab": {
     "base_uri": "https://localhost:8080/",
     "height": 203
    },
    "id": "LovtJ8scFtQt",
    "outputId": "847df30c-1049-4451-bfee-a08e45c055c7"
   },
   "outputs": [
    {
     "data": {
      "text/html": [
       "<div>\n",
       "<style scoped>\n",
       "    .dataframe tbody tr th:only-of-type {\n",
       "        vertical-align: middle;\n",
       "    }\n",
       "\n",
       "    .dataframe tbody tr th {\n",
       "        vertical-align: top;\n",
       "    }\n",
       "\n",
       "    .dataframe thead th {\n",
       "        text-align: right;\n",
       "    }\n",
       "</style>\n",
       "<table border=\"1\" class=\"dataframe\">\n",
       "  <thead>\n",
       "    <tr style=\"text-align: right;\">\n",
       "      <th></th>\n",
       "      <th>file_id</th>\n",
       "    </tr>\n",
       "  </thead>\n",
       "  <tbody>\n",
       "    <tr>\n",
       "      <th>0</th>\n",
       "      <td>0</td>\n",
       "    </tr>\n",
       "    <tr>\n",
       "      <th>1</th>\n",
       "      <td>1</td>\n",
       "    </tr>\n",
       "    <tr>\n",
       "      <th>2</th>\n",
       "      <td>2</td>\n",
       "    </tr>\n",
       "    <tr>\n",
       "      <th>3</th>\n",
       "      <td>3</td>\n",
       "    </tr>\n",
       "    <tr>\n",
       "      <th>4</th>\n",
       "      <td>4</td>\n",
       "    </tr>\n",
       "  </tbody>\n",
       "</table>\n",
       "</div>"
      ],
      "text/plain": [
       "   file_id\n",
       "0        0\n",
       "1        1\n",
       "2        2\n",
       "3        3\n",
       "4        4"
      ]
     },
     "execution_count": 15,
     "metadata": {},
     "output_type": "execute_result"
    }
   ],
   "source": [
    "test = pd.read_csv('C:/Users/Venkatesh.DESKTOP-836KGPI/DSML_GL_PES/Deep Learning/Hackathon/test_(1).csv')\n",
    "test.head()"
   ]
  },
  {
   "cell_type": "code",
   "execution_count": 26,
   "metadata": {},
   "outputs": [
    {
     "data": {
      "text/plain": [
       "(332, 1)"
      ]
     },
     "execution_count": 26,
     "metadata": {},
     "output_type": "execute_result"
    }
   ],
   "source": [
    "test.shape"
   ]
  },
  {
   "cell_type": "code",
   "execution_count": 29,
   "metadata": {
    "id": "OWphevaKF223"
   },
   "outputs": [],
   "source": [
    "index=[]\n",
    "pred=[]\n",
    "for i in range(test.shape[0]):\n",
    "  test_img = cv2.imread('C:/Users/Venkatesh.DESKTOP-836KGPI/DSML_GL_PES/Deep Learning/Hackathon/test/test/'+str(i)+'.jpg')\n",
    "  test_img1 = cv2.resize(test_img,dsize=(224,224))\n",
    "  test_img2 = test_img1/255.\n",
    "  test_img3 = np.expand_dims(test_img2,0)\n",
    "  pred.append(round(base_model.predict(test_img3)[0][0]))\n",
    "  index.append(i)"
   ]
  },
  {
   "cell_type": "code",
   "execution_count": 30,
   "metadata": {
    "id": "7pi1vqamF2_M"
   },
   "outputs": [],
   "source": [
    "pred_df = pd.DataFrame({'file_id':index,'label':pred})\n",
    "pred_df.to_csv('SushmaD.csv')"
   ]
  },
  {
   "cell_type": "code",
   "execution_count": null,
   "metadata": {
    "id": "9Z81FmQnF3Fe"
   },
   "outputs": [],
   "source": []
  },
  {
   "cell_type": "code",
   "execution_count": null,
   "metadata": {
    "id": "tHltMdKNF3Nc"
   },
   "outputs": [],
   "source": []
  }
 ],
 "metadata": {
  "accelerator": "GPU",
  "colab": {
   "collapsed_sections": [],
   "name": "DL_Hackathon_MobileNet.ipynb",
   "provenance": []
  },
  "kernelspec": {
   "display_name": "Python 3",
   "language": "python",
   "name": "python3"
  },
  "language_info": {
   "codemirror_mode": {
    "name": "ipython",
    "version": 3
   },
   "file_extension": ".py",
   "mimetype": "text/x-python",
   "name": "python",
   "nbconvert_exporter": "python",
   "pygments_lexer": "ipython3",
   "version": "3.8.3"
  }
 },
 "nbformat": 4,
 "nbformat_minor": 1
}
